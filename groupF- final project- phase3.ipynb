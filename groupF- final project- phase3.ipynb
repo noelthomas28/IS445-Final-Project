{
 "cells": [
  {
   "cell_type": "markdown",
   "metadata": {},
   "source": [
    "# Introduction"
   ]
  },
  {
   "cell_type": "markdown",
   "metadata": {},
   "source": [
    "For the Final Project : Group Part we chose the Hate Crime data set, which provides the data for hate crime that happened across USA from 1991 to 2020. The data set is modified periodically and was last modified on October 25, 2021. Each member of the group explored the data set in their own ways and came up with the ideas for different types of visualizations that gives the best insights into the data. We tried to visualize all the possible relationship in the data set to make the data easily understandable to the reader. Every member decided to move with different technologies to make the visualizations (Python, Vegalite, D3 etc).Following are the visualization that we came up with for this project. "
   ]
  },
  {
   "cell_type": "code",
   "execution_count": 1,
   "metadata": {
    "scrolled": true
   },
   "outputs": [
    {
     "data": {
      "text/plain": [
       "'pip install plotly\\npip install numpy\\npip install pandas\\npip install matplotlib\\npip install ipywidgets'"
      ]
     },
     "execution_count": 1,
     "metadata": {},
     "output_type": "execute_result"
    }
   ],
   "source": [
    "'''pip install plotly\n",
    "pip install numpy\n",
    "pip install pandas\n",
    "pip install matplotlib\n",
    "pip install ipywidgets'''"
   ]
  },
  {
   "cell_type": "code",
   "execution_count": 2,
   "metadata": {},
   "outputs": [],
   "source": [
    "%matplotlib inline\n",
    "import pandas as pd\n",
    "from io import BytesIO\n",
    "from zipfile import ZipFile\n",
    "from urllib.request import urlopen\n",
    "import ipywidgets \n",
    "import traitlets\n",
    "import bqplot\n",
    "import matplotlib.pyplot as plt\n",
    "import numpy as np\n",
    "import seaborn as sns\n",
    "import plotly\n",
    "from ipywidgets import interact, interact_manual, Layout, interact, IntSlider, widgets\n",
    "from matplotlib import gridspec\n",
    "import plotly.express as px\n",
    "import plotly.graph_objects as go"
   ]
  },
  {
   "cell_type": "markdown",
   "metadata": {},
   "source": [
    "Let's read the zip file directly from the website and extract the csv to make this notebook semi-real time:"
   ]
  },
  {
   "cell_type": "code",
   "execution_count": 3,
   "metadata": {
    "scrolled": true
   },
   "outputs": [
    {
     "name": "stderr",
     "output_type": "stream",
     "text": [
      "/opt/conda/lib/python3.8/site-packages/IPython/core/interactiveshell.py:3145: DtypeWarning: Columns (19) have mixed types.Specify dtype option on import or set low_memory=False.\n",
      "  has_raised = await self.run_ast_nodes(code_ast.body, cell_name,\n"
     ]
    }
   ],
   "source": [
    "resp = urlopen('https://s3-us-gov-west-1.amazonaws.com/cg-d4b776d0-d898-4153-90c8-8336f86bdfec/hate_crime.zip')\n",
    "zipfile = ZipFile(BytesIO(resp.read()))\n",
    "zipfile.namelist()[0]\n",
    "df = pd.read_csv(zipfile.open('hate_crime.csv'))"
   ]
  },
  {
   "cell_type": "markdown",
   "metadata": {},
   "source": [
    "Let's look at what kind of data the dataset contains:"
   ]
  },
  {
   "cell_type": "code",
   "execution_count": 4,
   "metadata": {
    "scrolled": false
   },
   "outputs": [
    {
     "data": {
      "text/html": [
       "<div>\n",
       "<style scoped>\n",
       "    .dataframe tbody tr th:only-of-type {\n",
       "        vertical-align: middle;\n",
       "    }\n",
       "\n",
       "    .dataframe tbody tr th {\n",
       "        vertical-align: top;\n",
       "    }\n",
       "\n",
       "    .dataframe thead th {\n",
       "        text-align: right;\n",
       "    }\n",
       "</style>\n",
       "<table border=\"1\" class=\"dataframe\">\n",
       "  <thead>\n",
       "    <tr style=\"text-align: right;\">\n",
       "      <th></th>\n",
       "      <th>INCIDENT_ID</th>\n",
       "      <th>DATA_YEAR</th>\n",
       "      <th>ORI</th>\n",
       "      <th>PUB_AGENCY_NAME</th>\n",
       "      <th>PUB_AGENCY_UNIT</th>\n",
       "      <th>AGENCY_TYPE_NAME</th>\n",
       "      <th>STATE_ABBR</th>\n",
       "      <th>STATE_NAME</th>\n",
       "      <th>DIVISION_NAME</th>\n",
       "      <th>REGION_NAME</th>\n",
       "      <th>...</th>\n",
       "      <th>OFFENDER_RACE</th>\n",
       "      <th>OFFENDER_ETHNICITY</th>\n",
       "      <th>VICTIM_COUNT</th>\n",
       "      <th>OFFENSE_NAME</th>\n",
       "      <th>TOTAL_INDIVIDUAL_VICTIMS</th>\n",
       "      <th>LOCATION_NAME</th>\n",
       "      <th>BIAS_DESC</th>\n",
       "      <th>VICTIM_TYPES</th>\n",
       "      <th>MULTIPLE_OFFENSE</th>\n",
       "      <th>MULTIPLE_BIAS</th>\n",
       "    </tr>\n",
       "  </thead>\n",
       "  <tbody>\n",
       "    <tr>\n",
       "      <th>0</th>\n",
       "      <td>3015</td>\n",
       "      <td>1991</td>\n",
       "      <td>AR0040200</td>\n",
       "      <td>Rogers</td>\n",
       "      <td>NaN</td>\n",
       "      <td>City</td>\n",
       "      <td>AR</td>\n",
       "      <td>Arkansas</td>\n",
       "      <td>West South Central</td>\n",
       "      <td>South</td>\n",
       "      <td>...</td>\n",
       "      <td>White</td>\n",
       "      <td>NaN</td>\n",
       "      <td>1</td>\n",
       "      <td>Intimidation</td>\n",
       "      <td>1.0</td>\n",
       "      <td>Highway/Road/Alley/Street/Sidewalk</td>\n",
       "      <td>Anti-Black or African American</td>\n",
       "      <td>Individual</td>\n",
       "      <td>S</td>\n",
       "      <td>S</td>\n",
       "    </tr>\n",
       "    <tr>\n",
       "      <th>1</th>\n",
       "      <td>3016</td>\n",
       "      <td>1991</td>\n",
       "      <td>AR0290100</td>\n",
       "      <td>Hope</td>\n",
       "      <td>NaN</td>\n",
       "      <td>City</td>\n",
       "      <td>AR</td>\n",
       "      <td>Arkansas</td>\n",
       "      <td>West South Central</td>\n",
       "      <td>South</td>\n",
       "      <td>...</td>\n",
       "      <td>Black or African American</td>\n",
       "      <td>NaN</td>\n",
       "      <td>1</td>\n",
       "      <td>Simple Assault</td>\n",
       "      <td>1.0</td>\n",
       "      <td>Highway/Road/Alley/Street/Sidewalk</td>\n",
       "      <td>Anti-White</td>\n",
       "      <td>Individual</td>\n",
       "      <td>S</td>\n",
       "      <td>S</td>\n",
       "    </tr>\n",
       "    <tr>\n",
       "      <th>2</th>\n",
       "      <td>43</td>\n",
       "      <td>1991</td>\n",
       "      <td>AR0350100</td>\n",
       "      <td>Pine Bluff</td>\n",
       "      <td>NaN</td>\n",
       "      <td>City</td>\n",
       "      <td>AR</td>\n",
       "      <td>Arkansas</td>\n",
       "      <td>West South Central</td>\n",
       "      <td>South</td>\n",
       "      <td>...</td>\n",
       "      <td>Black or African American</td>\n",
       "      <td>NaN</td>\n",
       "      <td>1</td>\n",
       "      <td>Aggravated Assault</td>\n",
       "      <td>1.0</td>\n",
       "      <td>Residence/Home</td>\n",
       "      <td>Anti-Black or African American</td>\n",
       "      <td>Individual</td>\n",
       "      <td>S</td>\n",
       "      <td>S</td>\n",
       "    </tr>\n",
       "    <tr>\n",
       "      <th>3</th>\n",
       "      <td>44</td>\n",
       "      <td>1991</td>\n",
       "      <td>AR0350100</td>\n",
       "      <td>Pine Bluff</td>\n",
       "      <td>NaN</td>\n",
       "      <td>City</td>\n",
       "      <td>AR</td>\n",
       "      <td>Arkansas</td>\n",
       "      <td>West South Central</td>\n",
       "      <td>South</td>\n",
       "      <td>...</td>\n",
       "      <td>Black or African American</td>\n",
       "      <td>NaN</td>\n",
       "      <td>2</td>\n",
       "      <td>Aggravated Assault;Destruction/Damage/Vandalis...</td>\n",
       "      <td>1.0</td>\n",
       "      <td>Highway/Road/Alley/Street/Sidewalk</td>\n",
       "      <td>Anti-White</td>\n",
       "      <td>Individual</td>\n",
       "      <td>M</td>\n",
       "      <td>S</td>\n",
       "    </tr>\n",
       "    <tr>\n",
       "      <th>4</th>\n",
       "      <td>3017</td>\n",
       "      <td>1991</td>\n",
       "      <td>AR0350100</td>\n",
       "      <td>Pine Bluff</td>\n",
       "      <td>NaN</td>\n",
       "      <td>City</td>\n",
       "      <td>AR</td>\n",
       "      <td>Arkansas</td>\n",
       "      <td>West South Central</td>\n",
       "      <td>South</td>\n",
       "      <td>...</td>\n",
       "      <td>Black or African American</td>\n",
       "      <td>NaN</td>\n",
       "      <td>1</td>\n",
       "      <td>Aggravated Assault</td>\n",
       "      <td>1.0</td>\n",
       "      <td>Service/Gas Station</td>\n",
       "      <td>Anti-White</td>\n",
       "      <td>Individual</td>\n",
       "      <td>S</td>\n",
       "      <td>S</td>\n",
       "    </tr>\n",
       "  </tbody>\n",
       "</table>\n",
       "<p>5 rows × 28 columns</p>\n",
       "</div>"
      ],
      "text/plain": [
       "   INCIDENT_ID  DATA_YEAR        ORI PUB_AGENCY_NAME PUB_AGENCY_UNIT  \\\n",
       "0         3015       1991  AR0040200          Rogers             NaN   \n",
       "1         3016       1991  AR0290100            Hope             NaN   \n",
       "2           43       1991  AR0350100      Pine Bluff             NaN   \n",
       "3           44       1991  AR0350100      Pine Bluff             NaN   \n",
       "4         3017       1991  AR0350100      Pine Bluff             NaN   \n",
       "\n",
       "  AGENCY_TYPE_NAME STATE_ABBR STATE_NAME       DIVISION_NAME REGION_NAME  ...  \\\n",
       "0             City         AR   Arkansas  West South Central       South  ...   \n",
       "1             City         AR   Arkansas  West South Central       South  ...   \n",
       "2             City         AR   Arkansas  West South Central       South  ...   \n",
       "3             City         AR   Arkansas  West South Central       South  ...   \n",
       "4             City         AR   Arkansas  West South Central       South  ...   \n",
       "\n",
       "               OFFENDER_RACE OFFENDER_ETHNICITY VICTIM_COUNT  \\\n",
       "0                      White                NaN            1   \n",
       "1  Black or African American                NaN            1   \n",
       "2  Black or African American                NaN            1   \n",
       "3  Black or African American                NaN            2   \n",
       "4  Black or African American                NaN            1   \n",
       "\n",
       "                                        OFFENSE_NAME  \\\n",
       "0                                       Intimidation   \n",
       "1                                     Simple Assault   \n",
       "2                                 Aggravated Assault   \n",
       "3  Aggravated Assault;Destruction/Damage/Vandalis...   \n",
       "4                                 Aggravated Assault   \n",
       "\n",
       "   TOTAL_INDIVIDUAL_VICTIMS                       LOCATION_NAME  \\\n",
       "0                       1.0  Highway/Road/Alley/Street/Sidewalk   \n",
       "1                       1.0  Highway/Road/Alley/Street/Sidewalk   \n",
       "2                       1.0                      Residence/Home   \n",
       "3                       1.0  Highway/Road/Alley/Street/Sidewalk   \n",
       "4                       1.0                 Service/Gas Station   \n",
       "\n",
       "                        BIAS_DESC  VICTIM_TYPES MULTIPLE_OFFENSE MULTIPLE_BIAS  \n",
       "0  Anti-Black or African American    Individual                S             S  \n",
       "1                      Anti-White    Individual                S             S  \n",
       "2  Anti-Black or African American    Individual                S             S  \n",
       "3                      Anti-White    Individual                M             S  \n",
       "4                      Anti-White    Individual                S             S  \n",
       "\n",
       "[5 rows x 28 columns]"
      ]
     },
     "execution_count": 4,
     "metadata": {},
     "output_type": "execute_result"
    }
   ],
   "source": [
    "df.head()"
   ]
  },
  {
   "cell_type": "markdown",
   "metadata": {},
   "source": [
    "### Heat map and Pair plot"
   ]
  },
  {
   "cell_type": "code",
   "execution_count": 5,
   "metadata": {
    "scrolled": true
   },
   "outputs": [
    {
     "data": {
      "image/png": "[encoded data removed]",
      "text/plain": [
       "<Figure size 1152x1152 with 2 Axes>"
      ]
     },
     "metadata": {
      "needs_background": "light"
     },
     "output_type": "display_data"
    }
   ],
   "source": [
    "#heat map showing correlation\n",
    "plt.figure(figsize=(16, 16))\n",
    "heatmap = sns.heatmap(df.corr(), vmin=-1, vmax=1, annot=True)"
   ]
  },
  {
   "cell_type": "markdown",
   "metadata": {},
   "source": [
    "Heat map that shows the correlation between variables. For example, victim count and adult victim count has a positive correlatioon oof 0.76. This means that as the number of victim count increases, the number of adult victims will increase as well. The number of adult victims given victim count will increase more that the number of juvenile victims given victim count becasue victim count and juvenile victims only have a correlation of 0.33; still a positive correlation, but not as intense as adult victims."
   ]
  },
  {
   "cell_type": "code",
   "execution_count": 6,
   "metadata": {
    "scrolled": true
   },
   "outputs": [
    {
     "data": {
      "text/plain": [
       "<seaborn.axisgrid.PairGrid at 0x7ff09871cfa0>"
      ]
     },
     "execution_count": 6,
     "metadata": {},
     "output_type": "execute_result"
    },
    {
     "data": {
      "image/png": "[encoded data removed]",
      "text/plain": [
       "<Figure size 1620x1620 with 90 Axes>"
      ]
     },
     "metadata": {
      "needs_background": "light"
     },
     "output_type": "display_data"
    }
   ],
   "source": [
    "#Pair plot\n",
    "sns.pairplot(df.corr())"
   ]
  },
  {
   "cell_type": "markdown",
   "metadata": {},
   "source": [
    "Pair plot that shows the correlation between variables. Basically a visual of the heat map (instead of numbers). Viewers can easily see where there might be correlation."
   ]
  },
  {
   "cell_type": "markdown",
   "metadata": {},
   "source": [
    "### Compares victim count with the number of offenses the offender had per year"
   ]
  },
  {
   "cell_type": "code",
   "execution_count": 7,
   "metadata": {},
   "outputs": [
    {
     "data": {
      "application/vnd.jupyter.widget-view+json": {
       "model_id": "2221da66ade94749bd77c53b7a7a1b90",
       "version_major": 2,
       "version_minor": 0
      },
      "text/plain": [
       "interactive(children=(Dropdown(description='x', options=('S', 'M'), value='S'), Dropdown(description='y', opti…"
      ]
     },
     "metadata": {},
     "output_type": "display_data"
    }
   ],
   "source": [
    "@ipywidgets.interact\n",
    "def show_incident_by_state_yearly(x=['S', 'M'], \n",
    "                            y=['S', 'M'],\n",
    "                            z=(1991, 2020, 1)):\n",
    "    df_x = df[df[\"MULTIPLE_OFFENSE\"] == x]\n",
    "    incidences_per_year_x = df_x[df_x[\"DATA_YEAR\"] < z].groupby('DATA_YEAR')['INCIDENT_ID'].count()\n",
    "    df_y = df[df[\"MULTIPLE_OFFENSE\"] == y]\n",
    "    incidences_per_year_y = df_y[df_y[\"DATA_YEAR\"] < z].groupby('DATA_YEAR')['INCIDENT_ID'].count()\n",
    "    plt.xlim((1990, 2025))\n",
    "    incidences_per_year_x.plot()\n",
    "    incidences_per_year_y.plot()\n",
    "    plt.xlabel('Year')\n",
    "    plt.ylabel('Victim count by number of offenses')\n",
    "    print(\"x = blue, y = orange\")"
   ]
  },
  {
   "cell_type": "markdown",
   "metadata": {},
   "source": [
    "From this visual, we can see that offenders with single offenses are more likely to commit a crime with a higher victim count than offenders with multiple offenses. This relationship applies from all years the data was recorded for. This is an unexpected discovering since it can be assumed that offenders with multiple offennses would commit crimes with a higher victim count; however the visual states otherwise."
   ]
  },
  {
   "cell_type": "markdown",
   "metadata": {},
   "source": [
    "### Compares victim count with offender race per year"
   ]
  },
  {
   "cell_type": "code",
   "execution_count": 8,
   "metadata": {},
   "outputs": [
    {
     "data": {
      "application/vnd.jupyter.widget-view+json": {
       "model_id": "d0d9af3fdd0942dfb104e217c19a8b20",
       "version_major": 2,
       "version_minor": 0
      },
      "text/plain": [
       "interactive(children=(Dropdown(description='x', options=('White', 'Black or African American', 'Unknown', 'Mul…"
      ]
     },
     "metadata": {},
     "output_type": "display_data"
    }
   ],
   "source": [
    "@ipywidgets.interact\n",
    "def show_incident_by_state_yearly(x=['White', 'Black or African American', 'Unknown', 'Multiple', 'Asian', \n",
    "                        'American Indian or Alaska Native', 'Native Hawaiian or Other Pacific Islander'], \n",
    "                            y=['White', 'Black or African American', 'Unknown', 'Multiple', 'Asian', \n",
    "                        'American Indian or Alaska Native', 'Native Hawaiian or Other Pacific Islander'],\n",
    "                            z=(1991, 2020, 1)):\n",
    "    df_x = df[df[\"OFFENDER_RACE\"] == x]\n",
    "    incidences_per_year_x = df_x[df_x[\"DATA_YEAR\"] < z].groupby('DATA_YEAR')['INCIDENT_ID'].count()\n",
    "    df_y = df[df[\"OFFENDER_RACE\"] == y]\n",
    "    incidences_per_year_y = df_y[df_y[\"DATA_YEAR\"] < z].groupby('DATA_YEAR')['INCIDENT_ID'].count()\n",
    "    plt.xlim((1990, 2025))\n",
    "    incidences_per_year_x.plot()\n",
    "    incidences_per_year_y.plot()\n",
    "    plt.xlabel('Year')\n",
    "    plt.ylabel('Victim count by offender race')\n",
    "    print(\"x = blue, y = orange\")"
   ]
  },
  {
   "cell_type": "markdown",
   "metadata": {},
   "source": [
    "From this visual, we can compare the number of victims with an offender's race over the years the data was collected. For example, if we compare Black or African American and White, we can see that white offenders are more likely to have a higher victim count."
   ]
  },
  {
   "cell_type": "markdown",
   "metadata": {},
   "source": [
    " "
   ]
  },
  {
   "cell_type": "markdown",
   "metadata": {},
   "source": [
    " "
   ]
  },
  {
   "cell_type": "code",
   "execution_count": 9,
   "metadata": {},
   "outputs": [
    {
     "name": "stdout",
     "output_type": "stream",
     "text": [
      "Date range: 1991 to 2020\n"
     ]
    }
   ],
   "source": [
    "# Date range\n",
    "year0 = min(df['DATA_YEAR']) #1991\n",
    "yearN = max(df['DATA_YEAR']) #2020\n",
    "years = list(range(year0, yearN + 1))\n",
    "print('Date range: {} to {}'.format(year0, yearN))\n",
    "year2idx = dict(zip(years, range(len(years))))"
   ]
  },
  {
   "cell_type": "markdown",
   "metadata": {},
   "source": [
    "### Hate Bias analysis"
   ]
  },
  {
   "cell_type": "markdown",
   "metadata": {},
   "source": [
    "#### Categorize bias into three categories: races/sexiuality/religion"
   ]
  },
  {
   "cell_type": "code",
   "execution_count": 10,
   "metadata": {},
   "outputs": [
    {
     "data": {
      "text/plain": [
       "BIAS_DESC\n",
       "Anti-Black or African American                                                                          74762\n",
       "Anti-Jewish                                                                                             28013\n",
       "Anti-White                                                                                              25193\n",
       "Anti-Gay (Male)                                                                                         21854\n",
       "Anti-Hispanic or Latino                                                                                 14030\n",
       "                                                                                                        ...  \n",
       "Anti-Gay (Male);Anti-Hispanic or Latino;Anti-Male                                                           1\n",
       "Anti-Gay (Male);Anti-Heterosexual                                                                           1\n",
       "Anti-Gay (Male);Anti-Gender Non-Conforming;Anti-Lesbian, Gay, Bisexual, or Transgender (Mixed Group)        1\n",
       "Anti-Gay (Male);Anti-Gender Non-Conforming                                                                  1\n",
       "Anti-Female;Anti-Other Race/Ethnicity/Ancestry                                                              1\n",
       "Name: INCIDENT_ID, Length: 279, dtype: int64"
      ]
     },
     "execution_count": 10,
     "metadata": {},
     "output_type": "execute_result"
    }
   ],
   "source": [
    "crimes_by_group = df.groupby('BIAS_DESC')['INCIDENT_ID'].count()\n",
    "crimes_by_group.sort_values(ascending=False)"
   ]
  },
  {
   "cell_type": "code",
   "execution_count": 11,
   "metadata": {},
   "outputs": [],
   "source": [
    "races = crimes_by_group.loc[['Anti-Black or African American', 'Anti-Jewish', 'Anti-White', 'Anti-Hispanic or Latino',\n",
    "                             'Anti-Other Race/Ethnicity/Ancestry','Anti-Asian', 'Anti-Multiple Races, Group', \n",
    "                             'Anti-American Indian or Alaska Native', 'Anti-Arab']]\n",
    "sexiuality = crimes_by_group.loc[['Anti-Gay (Male)', 'Anti-Lesbian, Gay, Bisexual, or Transgender (Mixed Group)', \n",
    "                                  'Anti-Lesbian (Female)','Anti-Transgender', 'Anti-Bisexual'\n",
    "                                 ]]\n",
    "religion = crimes_by_group.loc[['Anti-Islamic (Muslim)', 'Anti-Other Religion', 'Anti-Catholic', 'Anti-Protestant', \n",
    "                                'Anti-Multiple Religions, Group']]"
   ]
  },
  {
   "cell_type": "markdown",
   "metadata": {},
   "source": [
    "The following graph can be mainly divided into two parts, the total figure and the by_year figure.  <br> \n",
    "If the 'isTotal' field is selected as 'Total', the graph will show the total number of crimes happened in the US from 1991 to 2020, audience can change the category to view the pattern of distributions of crimes among the three categories.  <br> \n",
    "If the 'isTotal' field is selected as 'ByYear', audience can move the year ScrollableControl to change the year and see how the patterns changes throughout different years."
   ]
  },
  {
   "cell_type": "code",
   "execution_count": 27,
   "metadata": {},
   "outputs": [
    {
     "data": {
      "application/vnd.jupyter.widget-view+json": {
       "model_id": "2f1843fd49f44c40a417b6e1f59521fa",
       "version_major": 2,
       "version_minor": 0
      },
      "text/plain": [
       "interactive(children=(Dropdown(description='isTotal', index=1, options=('Total', 'ByYear'), value='ByYear'), D…"
      ]
     },
     "metadata": {},
     "output_type": "display_data"
    }
   ],
   "source": [
    "@interact(isTotal = ['Total', 'ByYear'], category = ['races', 'sexiuality', 'religions'],year=(1991, 2020, 1))\n",
    "def show_incident_by_state_yearly(isTotal = 'ByYear', category = 'races',year=2005):\n",
    "    crimes_by_year = df[df[\"DATA_YEAR\"] == year]\n",
    "    categories = {'races': ['Anti-Black or African American', 'Anti-Jewish', 'Anti-White', 'Anti-Hispanic or Latino',\n",
    "                             'Anti-Other Race/Ethnicity/Ancestry','Anti-Asian', 'Anti-Multiple Races, Group', \n",
    "                             'Anti-American Indian or Alaska Native', 'Anti-Arab'],\n",
    "                  'sexiuality': ['Anti-Gay (Male)', 'Anti-Lesbian, Gay, Bisexual, or Transgender (Mixed Group)', \n",
    "                                  'Anti-Lesbian (Female)','Anti-Transgender', 'Anti-Bisexual'] ,\n",
    "                  'religions': ['Anti-Islamic (Muslim)', 'Anti-Other Religion', 'Anti-Catholic', 'Anti-Protestant', 'Anti-Multiple Religions, Group']\n",
    "                 }\n",
    "    bias_types = categories['races']\n",
    "    # selecting rows based on racial bias    \n",
    "    count_crimes_bias = [0] * len(bias_types)\n",
    "    for i in range(len(bias_types)):\n",
    "        bias_type = bias_types[i]\n",
    "        count_crimes_bias[i] = crimes_by_year[crimes_by_year['BIAS_DESC'] == bias_type]['INCIDENT_ID'].count()\n",
    "    df1 = pd.DataFrame({\n",
    "    \"bias_types\": bias_types,\n",
    "    \"count_crimes_bias\": count_crimes_bias\n",
    "})\n",
    "    fig = px.bar(\n",
    "    df1,\n",
    "    y=\"bias_types\",  \n",
    "    x=\"count_crimes_bias\",\n",
    "    orientation='h',  \n",
    "    text=\"count_crimes_bias\"   \n",
    ")\n",
    "    with fig.batch_update():\n",
    "        if isTotal == 'Total':\n",
    "            crimes_by_year = df\n",
    "        else:\n",
    "            crimes_by_year = df[df[\"DATA_YEAR\"] == year]\n",
    "        bias_types = categories[category]\n",
    "        count_crimes_bias = [0] * len(bias_types)\n",
    "        for i in range(len(bias_types)):\n",
    "            bias_type = bias_types[i]\n",
    "            count_crimes_bias[i] = crimes_by_year[crimes_by_year['BIAS_DESC'] == bias_type]['INCIDENT_ID'].count()\n",
    "        df1 = pd.DataFrame({\n",
    "        \"bias_types\": bias_types,\n",
    "        \"count_crimes_bias\": count_crimes_bias\n",
    "        })\n",
    "        fig = px.bar(\n",
    "            df1,\n",
    "            y=\"bias_types\",  \n",
    "            x=\"count_crimes_bias\",\n",
    "            orientation='h',  \n",
    "            text=\"count_crimes_bias\",\n",
    "            color=\"count_crimes_bias\"\n",
    "        )\n",
    "        fig.show()"
   ]
  },
  {
   "cell_type": "markdown",
   "metadata": {},
   "source": [
    "Clearly, racial prejudice is the leading cause of prejudice in the United States, with over 150,000 racially biased offenders occurring in total. And of the types of racial prejudice, anti-black or African-American is definitely the most serious discrimination. While this improved at the turn of the century, the number of anti-Black or African-American crimes increased from 2,181 to 3,521 between 2019 and 2020, almost double the increase. Anti-white and anti-Semitic are the second and third largest categories, with the number of anti-white largely increasing from 2019 to 2020, which is also indicative of the tensions between blacks and whites over the past two years.<br> \n",
    "The total number of crimes committed as a result of anti-sexual behaviour is around 30,000. Of these, anti-gay (male) crimes account for 22k. The distribution has not changed significantly over the years, except that the number of anti-trans crimes has steadily increased every year since they were identified in 2013, and even reached 224 in 2020. I believe that some attention should be paid to the transgender community. The safety of the homosexual community is always a big issue.<br> \n",
    "Anti-religious crime is also a serious problem in this country, with a total of around 110,000+. The distribution of these five groups has changed considerably over the years. Overall, anti-Islam (Muslim) and anti-other religions are the two most important factors.<br> "
   ]
  },
  {
   "cell_type": "markdown",
   "metadata": {},
   "source": [
    "### Compare the trends of states"
   ]
  },
  {
   "cell_type": "markdown",
   "metadata": {},
   "source": [
    "#### Calculate and store yearly data for each state into a new dataframe"
   ]
  },
  {
   "cell_type": "code",
   "execution_count": 13,
   "metadata": {},
   "outputs": [],
   "source": [
    "states = ['AR', 'AZ', 'CA', 'CO', 'CT', 'DC', 'DE', 'GA', 'IA', 'ID', 'IL',\n",
    "   'KS', 'MA', 'MD', 'MN', 'MO', 'MS', 'NJ', 'NV', 'NY', 'OH', 'OK',\n",
    "   'OR', 'PA', 'TN', 'TX', 'VA', 'WA', 'WI', 'AL', 'FL', 'IN', 'KY',\n",
    "   'LA', 'ME', 'MI', 'NC', 'ND', 'RI', 'SC', 'UT', 'WY', 'AK', 'MT',\n",
    "   'NM', 'SD', 'VT', 'NH', 'NB', 'WV', 'GM', 'FS', 'HI']\n",
    "incidences_per_year_state = {}\n",
    "years = [i for i in range(1991, 2021)]\n",
    "n = 30 #2021-1991\n",
    "for state in states:\n",
    "    incidences = [0] * n\n",
    "    df_state = df[df[\"STATE_ABBR\"] == state]\n",
    "    for i in range(n):\n",
    "        incidences[i] = df_state[df_state['DATA_YEAR'] == years[i]]['INCIDENT_ID'].count() \n",
    "    incidences_per_year_state[state] = incidences"
   ]
  },
  {
   "cell_type": "markdown",
   "metadata": {},
   "source": [
    "The following graph enable audience to choose states and compare the yearly trends of the chosen states. When the mouse is moved over the fold, audience can also see the specific number of crimes for each year. Auidence can also select all to show the trends for all states. But that would lead to lots of overlaps. "
   ]
  },
  {
   "cell_type": "code",
   "execution_count": 14,
   "metadata": {},
   "outputs": [
    {
     "data": {
      "application/vnd.jupyter.widget-view+json": {
       "model_id": "ce556ebb9165479a98a28c465d67ac59",
       "version_major": 2,
       "version_minor": 0
      },
      "text/plain": [
       "interactive(children=(Dropdown(description='show', options=('by_state', 'all'), value='by_state'), Dropdown(de…"
      ]
     },
     "metadata": {},
     "output_type": "display_data"
    }
   ],
   "source": [
    "data_plot = {}\n",
    "\n",
    "@interact\n",
    "def show_incident_by_state_yearly(show=['by_state', 'all'], state=['AR', 'AZ', 'CA', 'CO', 'CT', 'DC', 'DE', 'GA', 'IA', 'ID', 'IL',\n",
    "       'KS', 'MA', 'MD', 'MN', 'MO', 'MS', 'NJ', 'NV', 'NY', 'OH', 'OK',\n",
    "       'OR', 'PA', 'TN', 'TX', 'VA', 'WA', 'WI', 'AL', 'FL', 'IN', 'KY',\n",
    "       'LA', 'ME', 'MI', 'NC', 'ND', 'RI', 'SC', 'UT', 'WY', 'AK', 'MT',\n",
    "       'NM', 'SD', 'VT', 'NH', 'NB', 'WV', 'GM', 'FS', 'HI']):\n",
    "    if show == 'by_state':\n",
    "        data_plot[state] = incidences_per_year_state[state]\n",
    "        df_plot = pd.DataFrame(data=data_plot)\n",
    "        fig = go.Figure()\n",
    "        for column in df_plot:\n",
    "            fig.add_trace(go.Scatter(x=years, y=df_plot[column], \n",
    "                            mode='lines+markers',\n",
    "                            name=column))\n",
    "        fig.show()\n",
    "    else:\n",
    "        fig = go.Figure()\n",
    "        for state in ['AR', 'AZ', 'CA', 'CO', 'CT', 'DC', 'DE', 'GA', 'IA', 'ID', 'IL',\n",
    "       'KS', 'MA', 'MD', 'MN', 'MO', 'MS', 'NJ', 'NV', 'NY', 'OH', 'OK',\n",
    "       'OR', 'PA', 'TN', 'TX', 'VA', 'WA', 'WI', 'AL', 'FL', 'IN', 'KY',\n",
    "       'LA', 'ME', 'MI', 'NC', 'ND', 'RI', 'SC', 'UT', 'WY', 'AK', 'MT',\n",
    "       'NM', 'SD', 'VT', 'NH', 'NB', 'WV', 'GM', 'FS', 'HI']: \n",
    "            data_plot[state] = incidences_per_year_state[state]\n",
    "            df_plot = pd.DataFrame(data=data_plot)\n",
    "            \n",
    "            for column in df_plot:\n",
    "                fig.add_trace(go.Scatter(x=years, y=df_plot[column], \n",
    "                            mode='lines+markers',\n",
    "                            name=column))\n",
    "        fig.show()"
   ]
  },
  {
   "cell_type": "markdown",
   "metadata": {},
   "source": [
    "We can see that California has had the most bias crimes in almost all periods. This number peaked in 2001 and has gradually decreased since then. Another notable state is New Jersey, which has seen a dramatic increase in the number of crimes and became the most biased state in 2020."
   ]
  },
  {
   "cell_type": "markdown",
   "metadata": {},
   "source": [
    "### Heat map (of the US)"
   ]
  },
  {
   "cell_type": "markdown",
   "metadata": {},
   "source": [
    "Grouping all the Bias Description and counting the occurences of each:"
   ]
  },
  {
   "cell_type": "markdown",
   "metadata": {},
   "source": [
    "(Only the top 50 Biases were included)"
   ]
  },
  {
   "cell_type": "code",
   "execution_count": 15,
   "metadata": {},
   "outputs": [],
   "source": [
    "top=pd.Series(df.groupby('BIAS_DESC')['BIAS_DESC'].count()).nlargest(50)\n",
    "top=top.to_frame()"
   ]
  },
  {
   "cell_type": "markdown",
   "metadata": {},
   "source": [
    "Fixing the columns:"
   ]
  },
  {
   "cell_type": "code",
   "execution_count": 16,
   "metadata": {},
   "outputs": [],
   "source": [
    "top['Bias']=top.index\n",
    "top=top.reset_index(drop='True')\n",
    "top.rename(columns={'BIAS_DESC':'Count'},inplace='True')"
   ]
  },
  {
   "cell_type": "code",
   "execution_count": 17,
   "metadata": {},
   "outputs": [],
   "source": [
    "val=[1, 2, 4, 5, 6, 8, 9, 10, 11, 12, 13, 15, 16, 17, 18, 19, 20, 21, 22, 23, 24, 25, 26, 27, 28, 29, 30, 31, 32, 33, 34, 35, 36, 37, 38, 39, 40, 41, 42, 44, 45, 46, 47, 48, 49, 50, 51, 53, 54, 55,56,60,66]"
   ]
  },
  {
   "cell_type": "code",
   "execution_count": 18,
   "metadata": {},
   "outputs": [
    {
     "data": {
      "application/vnd.jupyter.widget-view+json": {
       "model_id": "b0d6d3a284324c31b6a3c3b0af41b07b",
       "version_major": 2,
       "version_minor": 0
      },
      "text/plain": [
       "interactive(children=(Combobox(value='Anti-Black or African American', description='Bias', options=('Anti-Blac…"
      ]
     },
     "metadata": {},
     "output_type": "display_data"
    }
   ],
   "source": [
    "@ipywidgets.interact(Bias=widgets.Combobox(options=top['Bias'].tolist(),value=\"Anti-Black or African American\")\n",
    "                     ,Style=ipywidgets.RadioButtons(options=[\"plasma\",\"magma\",\"viridus\",\"inferno\"])\n",
    "                     ,Fill=ipywidgets.ColorPicker(value=\"green\")\n",
    "                     ,Single_offense=True\n",
    "                     ,Multiple_offense=True)\n",
    "def print_map(Bias,Single_offense,Multiple_offense,Style,Fill):\n",
    "\n",
    "    var=pd.Series([])\n",
    "    off='None'\n",
    "    if Single_offense==True and Multiple_offense==False:\n",
    "        var=df.loc[(df.BIAS_DESC==Bias) & (df.MULTIPLE_OFFENSE=='S')].groupby('STATE_NAME')['STATE_NAME'].count()\n",
    "        off='Single Offense'\n",
    "    elif Single_offense==False and Multiple_offense==True:\n",
    "        var=df.loc[(df.BIAS_DESC==Bias) & (df.MULTIPLE_OFFENSE=='M')].groupby('STATE_NAME')['STATE_NAME'].count()\n",
    "        off='Multiple Offense'\n",
    "    elif Single_offense==True and Multiple_offense==True:\n",
    "        var=df.loc[df.BIAS_DESC==Bias].groupby('STATE_NAME')['STATE_NAME'].count()\n",
    "        off='Single and Multiple Offense'\n",
    "    var.tolist()\n",
    "    inc_count = dict(zip(val, var))\n",
    "        \n",
    "    proj = bqplot.AlbersUSA()\n",
    "\n",
    "    color_sc = bqplot.ColorScale(scheme = Style)\n",
    "    color_ax = bqplot.ColorAxis(scale = color_sc, label = 'Incident Count')\n",
    "    \n",
    "    label1 = ipywidgets.Label()\n",
    "    label2 = ipywidgets.Label()\n",
    "        \n",
    "    def hover_over_state(mark, event):\n",
    "        label1.value = \"%s: \" % (event['data']['name'])\n",
    "        label2.value = \"%s cases\" % (event['data']['color']) if 'color' in event['data'] else \"No Data\"\n",
    "        \n",
    "    mark = bqplot.Map(\n",
    "    map_data = bqplot.topo_load(\"map_data/USStatesMap.json\"),\n",
    "    color = inc_count,\n",
    "    colors = {'default_color': 'none'},\n",
    "    scales = {'projection': proj, 'color': color_sc}\n",
    "    )\n",
    "        \n",
    "    mark.on_hover(hover_over_state)\n",
    "    mark.hovered_styles={'hovered_fill':Fill,'hovered_stroke':'white','hovered_stroke_width':5.0}\n",
    "    \n",
    "    fig = bqplot.Figure(marks = [mark], axes =[color_ax],title='Bias Heatmap ({0}) ({1})'.format(Bias,off))\n",
    "    display(ipywidgets.VBox([(ipywidgets.HBox([label1, label2])), fig]))"
   ]
  },
  {
   "cell_type": "markdown",
   "metadata": {},
   "source": [
    "This is a heat map of the US comparing the biases across multiple states. The Biases can be selected from a combo box, the color scheme can be selected using radio buttons and the color of the fill during mouse over can be selected using a colorpicker."
   ]
  },
  {
   "cell_type": "code",
   "execution_count": 19,
   "metadata": {
    "scrolled": false
   },
   "outputs": [
    {
     "data": {
      "application/vnd.jupyter.widget-view+json": {
       "model_id": "84469447651c4b0bb1f014acc2ef7181",
       "version_major": 2,
       "version_minor": 0
      },
      "text/plain": [
       "interactive(children=(IntSlider(value=1991, description='Year:', layout=Layout(width='100%'), max=2020, min=19…"
      ]
     },
     "metadata": {},
     "output_type": "display_data"
    }
   ],
   "source": [
    "@ipywidgets.interact(Year=IntSlider(description='Year:',min=df.DATA_YEAR.min()\n",
    "                                    ,max=df.DATA_YEAR.max(),step=1,layout=Layout(width='100%'))\n",
    "                     ,Style=ipywidgets.RadioButtons(options=[\"plasma\",\"magma\",\"viridus\",\"inferno\"])\n",
    "                     ,Fill=ipywidgets.ColorPicker(value=\"green\")\n",
    "                     ,Single_offense=True\n",
    "                     ,Multiple_offense=True)\n",
    "def print_year(Year,Single_offense,Multiple_offense,Style,Fill):\n",
    "\n",
    "    vc=pd.Series([])\n",
    "    off='None'\n",
    "    if Single_offense==True and Multiple_offense==False:\n",
    "        vc=df.loc[(df.DATA_YEAR==Year) & (df.MULTIPLE_OFFENSE=='S')].groupby('STATE_NAME')['VICTIM_COUNT'].sum()\n",
    "        off='Single Offense'\n",
    "    elif Single_offense==False and Multiple_offense==True:\n",
    "        vc=df.loc[(df.DATA_YEAR==Year) & (df.MULTIPLE_OFFENSE=='M')].groupby('STATE_NAME')['VICTIM_COUNT'].sum()\n",
    "        off='Multiple Offense'\n",
    "    elif Single_offense==True and Multiple_offense==True:\n",
    "        vc=df.loc[(df.DATA_YEAR==Year)].groupby('STATE_NAME')['VICTIM_COUNT'].sum()\n",
    "        off='Single and Multiple Offense'\n",
    "    vc.tolist()\n",
    "    vic_count = dict(zip(val, vc))\n",
    "        \n",
    "    proj = bqplot.AlbersUSA()\n",
    "\n",
    "    color_sc = bqplot.ColorScale(scheme = Style)\n",
    "    color_ax = bqplot.ColorAxis(scale = color_sc, label = 'Victim Count')\n",
    "    \n",
    "    label1 = ipywidgets.Label()\n",
    "    label2 = ipywidgets.Label()\n",
    "        \n",
    "    def hover_over_state(mark, event):\n",
    "        label1.value = \"%s: \" % (event['data']['name'])\n",
    "        label2.value = \"%s victims\" % (event['data']['color']) if 'color' in event['data'] else \"No Data\"\n",
    "        \n",
    "    mark = bqplot.Map(\n",
    "    map_data = bqplot.topo_load(\"map_data/USStatesMap.json\"),\n",
    "    color = vic_count,\n",
    "    colors = {'default_color': 'none'},\n",
    "    scales = {'projection': proj, 'color': color_sc}\n",
    "    )\n",
    "        \n",
    "    mark.on_hover(hover_over_state)\n",
    "    mark.hovered_styles={'hovered_fill':Fill,'hovered_stroke':'white','hovered_stroke_width':5.0}\n",
    "    \n",
    "    fig = bqplot.Figure(marks = [mark], axes =[color_ax],title='Victim Count Heatmap for the year ({0}) ({1})'.format(Year,off))\n",
    "    display(ipywidgets.VBox([(ipywidgets.HBox([label1, label2])), fig]))\n",
    "    \n",
    "\n"
   ]
  },
  {
   "cell_type": "markdown",
   "metadata": {},
   "source": [
    "This is a heat map of the US showing the victim count for 2019. The Year can be selected using a slider, the color scheme can be selected using radio buttons and the color of the fill during mouse over can be selected using a colorpicker."
   ]
  },
  {
   "cell_type": "markdown",
   "metadata": {},
   "source": [
    " "
   ]
  },
  {
   "cell_type": "markdown",
   "metadata": {},
   "source": [
    "## Pie chart Data Visualization\n",
    "In the phase 2 of the data visualization project, I made a pie chart with the help of vegalite. It was pretty basic but I wanted to do something in a pie chart. That's why I made use of the plotly package to increase more interactivity. Here, I have created a pie chart depicting the number of crimes in a specific division. In this, if we select a specific division in the label index, then the division gets selected/deselected accordingly in the pie chart. The perecentage also changes accordingly in the pie chart giving us more information of the number if crimes happening. It is also interactive in a way that if we hover over it, it gives us the number and the percentage of the crimes."
   ]
  },
  {
   "cell_type": "code",
   "execution_count": 20,
   "metadata": {},
   "outputs": [
    {
     "data": {
      "application/vnd.plotly.v1+json": {
       "config": {
        "plotlyServerURL": "https://plot.ly"
       },
       "data": [
        {
         "hole": 0.1,
         "labels": [
          "West South Central",
          "Mountain",
          "Pacific",
          "New England",
          "South Atlantic",
          "West North Central",
          "East North Central",
          "East South Central",
          "Middle Atlantic",
          "U.S. Territories",
          "Other"
         ],
         "type": "pie",
         "values": [
          11668,
          17354,
          49642,
          18278,
          26372,
          12845,
          30563,
          7938,
          44486,
          5,
          426
         ]
        }
       ],
       "layout": {
        "template": {
         "data": {
          "bar": [
           {
            "error_x": {
             "color": "#2a3f5f"
            },
            "error_y": {
             "color": "#2a3f5f"
            },
            "marker": {
             "line": {
              "color": "#E5ECF6",
              "width": 0.5
             },
             "pattern": {
              "fillmode": "overlay",
              "size": 10,
              "solidity": 0.2
             }
            },
            "type": "bar"
           }
          ],
          "barpolar": [
           {
            "marker": {
             "line": {
              "color": "#E5ECF6",
              "width": 0.5
             },
             "pattern": {
              "fillmode": "overlay",
              "size": 10,
              "solidity": 0.2
             }
            },
            "type": "barpolar"
           }
          ],
          "carpet": [
           {
            "aaxis": {
             "endlinecolor": "#2a3f5f",
             "gridcolor": "white",
             "linecolor": "white",
             "minorgridcolor": "white",
             "startlinecolor": "#2a3f5f"
            },
            "baxis": {
             "endlinecolor": "#2a3f5f",
             "gridcolor": "white",
             "linecolor": "white",
             "minorgridcolor": "white",
             "startlinecolor": "#2a3f5f"
            },
            "type": "carpet"
           }
          ],
          "choropleth": [
           {
            "colorbar": {
             "outlinewidth": 0,
             "ticks": ""
            },
            "type": "choropleth"
           }
          ],
          "contour": [
           {
            "colorbar": {
             "outlinewidth": 0,
             "ticks": ""
            },
            "colorscale": [
             [
              0,
              "#0d0887"
             ],
             [
              0.1111111111111111,
              "#46039f"
             ],
             [
              0.2222222222222222,
              "#7201a8"
             ],
             [
              0.3333333333333333,
              "#9c179e"
             ],
             [
              0.4444444444444444,
              "#bd3786"
             ],
             [
              0.5555555555555556,
              "#d8576b"
             ],
             [
              0.6666666666666666,
              "#ed7953"
             ],
             [
              0.7777777777777778,
              "#fb9f3a"
             ],
             [
              0.8888888888888888,
              "#fdca26"
             ],
             [
              1,
              "#f0f921"
             ]
            ],
            "type": "contour"
           }
          ],
          "contourcarpet": [
           {
            "colorbar": {
             "outlinewidth": 0,
             "ticks": ""
            },
            "type": "contourcarpet"
           }
          ],
          "heatmap": [
           {
            "colorbar": {
             "outlinewidth": 0,
             "ticks": ""
            },
            "colorscale": [
             [
              0,
              "#0d0887"
             ],
             [
              0.1111111111111111,
              "#46039f"
             ],
             [
              0.2222222222222222,
              "#7201a8"
             ],
             [
              0.3333333333333333,
              "#9c179e"
             ],
             [
              0.4444444444444444,
              "#bd3786"
             ],
             [
              0.5555555555555556,
              "#d8576b"
             ],
             [
              0.6666666666666666,
              "#ed7953"
             ],
             [
              0.7777777777777778,
              "#fb9f3a"
             ],
             [
              0.8888888888888888,
              "#fdca26"
             ],
             [
              1,
              "#f0f921"
             ]
            ],
            "type": "heatmap"
           }
          ],
          "heatmapgl": [
           {
            "colorbar": {
             "outlinewidth": 0,
             "ticks": ""
            },
            "colorscale": [
             [
              0,
              "#0d0887"
             ],
             [
              0.1111111111111111,
              "#46039f"
             ],
             [
              0.2222222222222222,
              "#7201a8"
             ],
             [
              0.3333333333333333,
              "#9c179e"
             ],
             [
              0.4444444444444444,
              "#bd3786"
             ],
             [
              0.5555555555555556,
              "#d8576b"
             ],
             [
              0.6666666666666666,
              "#ed7953"
             ],
             [
              0.7777777777777778,
              "#fb9f3a"
             ],
             [
              0.8888888888888888,
              "#fdca26"
             ],
             [
              1,
              "#f0f921"
             ]
            ],
            "type": "heatmapgl"
           }
          ],
          "histogram": [
           {
            "marker": {
             "pattern": {
              "fillmode": "overlay",
              "size": 10,
              "solidity": 0.2
             }
            },
            "type": "histogram"
           }
          ],
          "histogram2d": [
           {
            "colorbar": {
             "outlinewidth": 0,
             "ticks": ""
            },
            "colorscale": [
             [
              0,
              "#0d0887"
             ],
             [
              0.1111111111111111,
              "#46039f"
             ],
             [
              0.2222222222222222,
              "#7201a8"
             ],
             [
              0.3333333333333333,
              "#9c179e"
             ],
             [
              0.4444444444444444,
              "#bd3786"
             ],
             [
              0.5555555555555556,
              "#d8576b"
             ],
             [
              0.6666666666666666,
              "#ed7953"
             ],
             [
              0.7777777777777778,
              "#fb9f3a"
             ],
             [
              0.8888888888888888,
              "#fdca26"
             ],
             [
              1,
              "#f0f921"
             ]
            ],
            "type": "histogram2d"
           }
          ],
          "histogram2dcontour": [
           {
            "colorbar": {
             "outlinewidth": 0,
             "ticks": ""
            },
            "colorscale": [
             [
              0,
              "#0d0887"
             ],
             [
              0.1111111111111111,
              "#46039f"
             ],
             [
              0.2222222222222222,
              "#7201a8"
             ],
             [
              0.3333333333333333,
              "#9c179e"
             ],
             [
              0.4444444444444444,
              "#bd3786"
             ],
             [
              0.5555555555555556,
              "#d8576b"
             ],
             [
              0.6666666666666666,
              "#ed7953"
             ],
             [
              0.7777777777777778,
              "#fb9f3a"
             ],
             [
              0.8888888888888888,
              "#fdca26"
             ],
             [
              1,
              "#f0f921"
             ]
            ],
            "type": "histogram2dcontour"
           }
          ],
          "mesh3d": [
           {
            "colorbar": {
             "outlinewidth": 0,
             "ticks": ""
            },
            "type": "mesh3d"
           }
          ],
          "parcoords": [
           {
            "line": {
             "colorbar": {
              "outlinewidth": 0,
              "ticks": ""
             }
            },
            "type": "parcoords"
           }
          ],
          "pie": [
           {
            "automargin": true,
            "type": "pie"
           }
          ],
          "scatter": [
           {
            "marker": {
             "colorbar": {
              "outlinewidth": 0,
              "ticks": ""
             }
            },
            "type": "scatter"
           }
          ],
          "scatter3d": [
           {
            "line": {
             "colorbar": {
              "outlinewidth": 0,
              "ticks": ""
             }
            },
            "marker": {
             "colorbar": {
              "outlinewidth": 0,
              "ticks": ""
             }
            },
            "type": "scatter3d"
           }
          ],
          "scattercarpet": [
           {
            "marker": {
             "colorbar": {
              "outlinewidth": 0,
              "ticks": ""
             }
            },
            "type": "scattercarpet"
           }
          ],
          "scattergeo": [
           {
            "marker": {
             "colorbar": {
              "outlinewidth": 0,
              "ticks": ""
             }
            },
            "type": "scattergeo"
           }
          ],
          "scattergl": [
           {
            "marker": {
             "colorbar": {
              "outlinewidth": 0,
              "ticks": ""
             }
            },
            "type": "scattergl"
           }
          ],
          "scattermapbox": [
           {
            "marker": {
             "colorbar": {
              "outlinewidth": 0,
              "ticks": ""
             }
            },
            "type": "scattermapbox"
           }
          ],
          "scatterpolar": [
           {
            "marker": {
             "colorbar": {
              "outlinewidth": 0,
              "ticks": ""
             }
            },
            "type": "scatterpolar"
           }
          ],
          "scatterpolargl": [
           {
            "marker": {
             "colorbar": {
              "outlinewidth": 0,
              "ticks": ""
             }
            },
            "type": "scatterpolargl"
           }
          ],
          "scatterternary": [
           {
            "marker": {
             "colorbar": {
              "outlinewidth": 0,
              "ticks": ""
             }
            },
            "type": "scatterternary"
           }
          ],
          "surface": [
           {
            "colorbar": {
             "outlinewidth": 0,
             "ticks": ""
            },
            "colorscale": [
             [
              0,
              "#0d0887"
             ],
             [
              0.1111111111111111,
              "#46039f"
             ],
             [
              0.2222222222222222,
              "#7201a8"
             ],
             [
              0.3333333333333333,
              "#9c179e"
             ],
             [
              0.4444444444444444,
              "#bd3786"
             ],
             [
              0.5555555555555556,
              "#d8576b"
             ],
             [
              0.6666666666666666,
              "#ed7953"
             ],
             [
              0.7777777777777778,
              "#fb9f3a"
             ],
             [
              0.8888888888888888,
              "#fdca26"
             ],
             [
              1,
              "#f0f921"
             ]
            ],
            "type": "surface"
           }
          ],
          "table": [
           {
            "cells": {
             "fill": {
              "color": "#EBF0F8"
             },
             "line": {
              "color": "white"
             }
            },
            "header": {
             "fill": {
              "color": "#C8D4E3"
             },
             "line": {
              "color": "white"
             }
            },
            "type": "table"
           }
          ]
         },
         "layout": {
          "annotationdefaults": {
           "arrowcolor": "#2a3f5f",
           "arrowhead": 0,
           "arrowwidth": 1
          },
          "autotypenumbers": "strict",
          "coloraxis": {
           "colorbar": {
            "outlinewidth": 0,
            "ticks": ""
           }
          },
          "colorscale": {
           "diverging": [
            [
             0,
             "#8e0152"
            ],
            [
             0.1,
             "#c51b7d"
            ],
            [
             0.2,
             "#de77ae"
            ],
            [
             0.3,
             "#f1b6da"
            ],
            [
             0.4,
             "#fde0ef"
            ],
            [
             0.5,
             "#f7f7f7"
            ],
            [
             0.6,
             "#e6f5d0"
            ],
            [
             0.7,
             "#b8e186"
            ],
            [
             0.8,
             "#7fbc41"
            ],
            [
             0.9,
             "#4d9221"
            ],
            [
             1,
             "#276419"
            ]
           ],
           "sequential": [
            [
             0,
             "#0d0887"
            ],
            [
             0.1111111111111111,
             "#46039f"
            ],
            [
             0.2222222222222222,
             "#7201a8"
            ],
            [
             0.3333333333333333,
             "#9c179e"
            ],
            [
             0.4444444444444444,
             "#bd3786"
            ],
            [
             0.5555555555555556,
             "#d8576b"
            ],
            [
             0.6666666666666666,
             "#ed7953"
            ],
            [
             0.7777777777777778,
             "#fb9f3a"
            ],
            [
             0.8888888888888888,
             "#fdca26"
            ],
            [
             1,
             "#f0f921"
            ]
           ],
           "sequentialminus": [
            [
             0,
             "#0d0887"
            ],
            [
             0.1111111111111111,
             "#46039f"
            ],
            [
             0.2222222222222222,
             "#7201a8"
            ],
            [
             0.3333333333333333,
             "#9c179e"
            ],
            [
             0.4444444444444444,
             "#bd3786"
            ],
            [
             0.5555555555555556,
             "#d8576b"
            ],
            [
             0.6666666666666666,
             "#ed7953"
            ],
            [
             0.7777777777777778,
             "#fb9f3a"
            ],
            [
             0.8888888888888888,
             "#fdca26"
            ],
            [
             1,
             "#f0f921"
            ]
           ]
          },
          "colorway": [
           "#636efa",
           "#EF553B",
           "#00cc96",
           "#ab63fa",
           "#FFA15A",
           "#19d3f3",
           "#FF6692",
           "#B6E880",
           "#FF97FF",
           "#FECB52"
          ],
          "font": {
           "color": "#2a3f5f"
          },
          "geo": {
           "bgcolor": "white",
           "lakecolor": "white",
           "landcolor": "#E5ECF6",
           "showlakes": true,
           "showland": true,
           "subunitcolor": "white"
          },
          "hoverlabel": {
           "align": "left"
          },
          "hovermode": "closest",
          "mapbox": {
           "style": "light"
          },
          "paper_bgcolor": "white",
          "plot_bgcolor": "#E5ECF6",
          "polar": {
           "angularaxis": {
            "gridcolor": "white",
            "linecolor": "white",
            "ticks": ""
           },
           "bgcolor": "#E5ECF6",
           "radialaxis": {
            "gridcolor": "white",
            "linecolor": "white",
            "ticks": ""
           }
          },
          "scene": {
           "xaxis": {
            "backgroundcolor": "#E5ECF6",
            "gridcolor": "white",
            "gridwidth": 2,
            "linecolor": "white",
            "showbackground": true,
            "ticks": "",
            "zerolinecolor": "white"
           },
           "yaxis": {
            "backgroundcolor": "#E5ECF6",
            "gridcolor": "white",
            "gridwidth": 2,
            "linecolor": "white",
            "showbackground": true,
            "ticks": "",
            "zerolinecolor": "white"
           },
           "zaxis": {
            "backgroundcolor": "#E5ECF6",
            "gridcolor": "white",
            "gridwidth": 2,
            "linecolor": "white",
            "showbackground": true,
            "ticks": "",
            "zerolinecolor": "white"
           }
          },
          "shapedefaults": {
           "line": {
            "color": "#2a3f5f"
           }
          },
          "ternary": {
           "aaxis": {
            "gridcolor": "white",
            "linecolor": "white",
            "ticks": ""
           },
           "baxis": {
            "gridcolor": "white",
            "linecolor": "white",
            "ticks": ""
           },
           "bgcolor": "#E5ECF6",
           "caxis": {
            "gridcolor": "white",
            "linecolor": "white",
            "ticks": ""
           }
          },
          "title": {
           "x": 0.05
          },
          "xaxis": {
           "automargin": true,
           "gridcolor": "white",
           "linecolor": "white",
           "ticks": "",
           "title": {
            "standoff": 15
           },
           "zerolinecolor": "white",
           "zerolinewidth": 2
          },
          "yaxis": {
           "automargin": true,
           "gridcolor": "white",
           "linecolor": "white",
           "ticks": "",
           "title": {
            "standoff": 15
           },
           "zerolinecolor": "white",
           "zerolinewidth": 2
          }
         }
        }
       }
      },
      "text/html": [
       "<div>                            <div id=\"adadf0b2-4655-4c22-a5b1-bbb7638150c5\" class=\"plotly-graph-div\" style=\"height:525px; width:100%;\"></div>            <script type=\"text/javascript\">                require([\"plotly\"], function(Plotly) {                    window.PLOTLYENV=window.PLOTLYENV || {};                                    if (document.getElementById(\"adadf0b2-4655-4c22-a5b1-bbb7638150c5\")) {                    Plotly.newPlot(                        \"adadf0b2-4655-4c22-a5b1-bbb7638150c5\",                        [{\"hole\":0.1,\"labels\":[\"West South Central\",\"Mountain\",\"Pacific\",\"New England\",\"South Atlantic\",\"West North Central\",\"East North Central\",\"East South Central\",\"Middle Atlantic\",\"U.S. Territories\",\"Other\"],\"values\":[11668,17354,49642,18278,26372,12845,30563,7938,44486,5,426],\"type\":\"pie\"}],                        {\"template\":{\"data\":{\"bar\":[{\"error_x\":{\"color\":\"#2a3f5f\"},\"error_y\":{\"color\":\"#2a3f5f\"},\"marker\":{\"line\":{\"color\":\"#E5ECF6\",\"width\":0.5},\"pattern\":{\"fillmode\":\"overlay\",\"size\":10,\"solidity\":0.2}},\"type\":\"bar\"}],\"barpolar\":[{\"marker\":{\"line\":{\"color\":\"#E5ECF6\",\"width\":0.5},\"pattern\":{\"fillmode\":\"overlay\",\"size\":10,\"solidity\":0.2}},\"type\":\"barpolar\"}],\"carpet\":[{\"aaxis\":{\"endlinecolor\":\"#2a3f5f\",\"gridcolor\":\"white\",\"linecolor\":\"white\",\"minorgridcolor\":\"white\",\"startlinecolor\":\"#2a3f5f\"},\"baxis\":{\"endlinecolor\":\"#2a3f5f\",\"gridcolor\":\"white\",\"linecolor\":\"white\",\"minorgridcolor\":\"white\",\"startlinecolor\":\"#2a3f5f\"},\"type\":\"carpet\"}],\"choropleth\":[{\"colorbar\":{\"outlinewidth\":0,\"ticks\":\"\"},\"type\":\"choropleth\"}],\"contour\":[{\"colorbar\":{\"outlinewidth\":0,\"ticks\":\"\"},\"colorscale\":[[0.0,\"#0d0887\"],[0.1111111111111111,\"#46039f\"],[0.2222222222222222,\"#7201a8\"],[0.3333333333333333,\"#9c179e\"],[0.4444444444444444,\"#bd3786\"],[0.5555555555555556,\"#d8576b\"],[0.6666666666666666,\"#ed7953\"],[0.7777777777777778,\"#fb9f3a\"],[0.8888888888888888,\"#fdca26\"],[1.0,\"#f0f921\"]],\"type\":\"contour\"}],\"contourcarpet\":[{\"colorbar\":{\"outlinewidth\":0,\"ticks\":\"\"},\"type\":\"contourcarpet\"}],\"heatmap\":[{\"colorbar\":{\"outlinewidth\":0,\"ticks\":\"\"},\"colorscale\":[[0.0,\"#0d0887\"],[0.1111111111111111,\"#46039f\"],[0.2222222222222222,\"#7201a8\"],[0.3333333333333333,\"#9c179e\"],[0.4444444444444444,\"#bd3786\"],[0.5555555555555556,\"#d8576b\"],[0.6666666666666666,\"#ed7953\"],[0.7777777777777778,\"#fb9f3a\"],[0.8888888888888888,\"#fdca26\"],[1.0,\"#f0f921\"]],\"type\":\"heatmap\"}],\"heatmapgl\":[{\"colorbar\":{\"outlinewidth\":0,\"ticks\":\"\"},\"colorscale\":[[0.0,\"#0d0887\"],[0.1111111111111111,\"#46039f\"],[0.2222222222222222,\"#7201a8\"],[0.3333333333333333,\"#9c179e\"],[0.4444444444444444,\"#bd3786\"],[0.5555555555555556,\"#d8576b\"],[0.6666666666666666,\"#ed7953\"],[0.7777777777777778,\"#fb9f3a\"],[0.8888888888888888,\"#fdca26\"],[1.0,\"#f0f921\"]],\"type\":\"heatmapgl\"}],\"histogram\":[{\"marker\":{\"pattern\":{\"fillmode\":\"overlay\",\"size\":10,\"solidity\":0.2}},\"type\":\"histogram\"}],\"histogram2d\":[{\"colorbar\":{\"outlinewidth\":0,\"ticks\":\"\"},\"colorscale\":[[0.0,\"#0d0887\"],[0.1111111111111111,\"#46039f\"],[0.2222222222222222,\"#7201a8\"],[0.3333333333333333,\"#9c179e\"],[0.4444444444444444,\"#bd3786\"],[0.5555555555555556,\"#d8576b\"],[0.6666666666666666,\"#ed7953\"],[0.7777777777777778,\"#fb9f3a\"],[0.8888888888888888,\"#fdca26\"],[1.0,\"#f0f921\"]],\"type\":\"histogram2d\"}],\"histogram2dcontour\":[{\"colorbar\":{\"outlinewidth\":0,\"ticks\":\"\"},\"colorscale\":[[0.0,\"#0d0887\"],[0.1111111111111111,\"#46039f\"],[0.2222222222222222,\"#7201a8\"],[0.3333333333333333,\"#9c179e\"],[0.4444444444444444,\"#bd3786\"],[0.5555555555555556,\"#d8576b\"],[0.6666666666666666,\"#ed7953\"],[0.7777777777777778,\"#fb9f3a\"],[0.8888888888888888,\"#fdca26\"],[1.0,\"#f0f921\"]],\"type\":\"histogram2dcontour\"}],\"mesh3d\":[{\"colorbar\":{\"outlinewidth\":0,\"ticks\":\"\"},\"type\":\"mesh3d\"}],\"parcoords\":[{\"line\":{\"colorbar\":{\"outlinewidth\":0,\"ticks\":\"\"}},\"type\":\"parcoords\"}],\"pie\":[{\"automargin\":true,\"type\":\"pie\"}],\"scatter\":[{\"marker\":{\"colorbar\":{\"outlinewidth\":0,\"ticks\":\"\"}},\"type\":\"scatter\"}],\"scatter3d\":[{\"line\":{\"colorbar\":{\"outlinewidth\":0,\"ticks\":\"\"}},\"marker\":{\"colorbar\":{\"outlinewidth\":0,\"ticks\":\"\"}},\"type\":\"scatter3d\"}],\"scattercarpet\":[{\"marker\":{\"colorbar\":{\"outlinewidth\":0,\"ticks\":\"\"}},\"type\":\"scattercarpet\"}],\"scattergeo\":[{\"marker\":{\"colorbar\":{\"outlinewidth\":0,\"ticks\":\"\"}},\"type\":\"scattergeo\"}],\"scattergl\":[{\"marker\":{\"colorbar\":{\"outlinewidth\":0,\"ticks\":\"\"}},\"type\":\"scattergl\"}],\"scattermapbox\":[{\"marker\":{\"colorbar\":{\"outlinewidth\":0,\"ticks\":\"\"}},\"type\":\"scattermapbox\"}],\"scatterpolar\":[{\"marker\":{\"colorbar\":{\"outlinewidth\":0,\"ticks\":\"\"}},\"type\":\"scatterpolar\"}],\"scatterpolargl\":[{\"marker\":{\"colorbar\":{\"outlinewidth\":0,\"ticks\":\"\"}},\"type\":\"scatterpolargl\"}],\"scatterternary\":[{\"marker\":{\"colorbar\":{\"outlinewidth\":0,\"ticks\":\"\"}},\"type\":\"scatterternary\"}],\"surface\":[{\"colorbar\":{\"outlinewidth\":0,\"ticks\":\"\"},\"colorscale\":[[0.0,\"#0d0887\"],[0.1111111111111111,\"#46039f\"],[0.2222222222222222,\"#7201a8\"],[0.3333333333333333,\"#9c179e\"],[0.4444444444444444,\"#bd3786\"],[0.5555555555555556,\"#d8576b\"],[0.6666666666666666,\"#ed7953\"],[0.7777777777777778,\"#fb9f3a\"],[0.8888888888888888,\"#fdca26\"],[1.0,\"#f0f921\"]],\"type\":\"surface\"}],\"table\":[{\"cells\":{\"fill\":{\"color\":\"#EBF0F8\"},\"line\":{\"color\":\"white\"}},\"header\":{\"fill\":{\"color\":\"#C8D4E3\"},\"line\":{\"color\":\"white\"}},\"type\":\"table\"}]},\"layout\":{\"annotationdefaults\":{\"arrowcolor\":\"#2a3f5f\",\"arrowhead\":0,\"arrowwidth\":1},\"autotypenumbers\":\"strict\",\"coloraxis\":{\"colorbar\":{\"outlinewidth\":0,\"ticks\":\"\"}},\"colorscale\":{\"diverging\":[[0,\"#8e0152\"],[0.1,\"#c51b7d\"],[0.2,\"#de77ae\"],[0.3,\"#f1b6da\"],[0.4,\"#fde0ef\"],[0.5,\"#f7f7f7\"],[0.6,\"#e6f5d0\"],[0.7,\"#b8e186\"],[0.8,\"#7fbc41\"],[0.9,\"#4d9221\"],[1,\"#276419\"]],\"sequential\":[[0.0,\"#0d0887\"],[0.1111111111111111,\"#46039f\"],[0.2222222222222222,\"#7201a8\"],[0.3333333333333333,\"#9c179e\"],[0.4444444444444444,\"#bd3786\"],[0.5555555555555556,\"#d8576b\"],[0.6666666666666666,\"#ed7953\"],[0.7777777777777778,\"#fb9f3a\"],[0.8888888888888888,\"#fdca26\"],[1.0,\"#f0f921\"]],\"sequentialminus\":[[0.0,\"#0d0887\"],[0.1111111111111111,\"#46039f\"],[0.2222222222222222,\"#7201a8\"],[0.3333333333333333,\"#9c179e\"],[0.4444444444444444,\"#bd3786\"],[0.5555555555555556,\"#d8576b\"],[0.6666666666666666,\"#ed7953\"],[0.7777777777777778,\"#fb9f3a\"],[0.8888888888888888,\"#fdca26\"],[1.0,\"#f0f921\"]]},\"colorway\":[\"#636efa\",\"#EF553B\",\"#00cc96\",\"#ab63fa\",\"#FFA15A\",\"#19d3f3\",\"#FF6692\",\"#B6E880\",\"#FF97FF\",\"#FECB52\"],\"font\":{\"color\":\"#2a3f5f\"},\"geo\":{\"bgcolor\":\"white\",\"lakecolor\":\"white\",\"landcolor\":\"#E5ECF6\",\"showlakes\":true,\"showland\":true,\"subunitcolor\":\"white\"},\"hoverlabel\":{\"align\":\"left\"},\"hovermode\":\"closest\",\"mapbox\":{\"style\":\"light\"},\"paper_bgcolor\":\"white\",\"plot_bgcolor\":\"#E5ECF6\",\"polar\":{\"angularaxis\":{\"gridcolor\":\"white\",\"linecolor\":\"white\",\"ticks\":\"\"},\"bgcolor\":\"#E5ECF6\",\"radialaxis\":{\"gridcolor\":\"white\",\"linecolor\":\"white\",\"ticks\":\"\"}},\"scene\":{\"xaxis\":{\"backgroundcolor\":\"#E5ECF6\",\"gridcolor\":\"white\",\"gridwidth\":2,\"linecolor\":\"white\",\"showbackground\":true,\"ticks\":\"\",\"zerolinecolor\":\"white\"},\"yaxis\":{\"backgroundcolor\":\"#E5ECF6\",\"gridcolor\":\"white\",\"gridwidth\":2,\"linecolor\":\"white\",\"showbackground\":true,\"ticks\":\"\",\"zerolinecolor\":\"white\"},\"zaxis\":{\"backgroundcolor\":\"#E5ECF6\",\"gridcolor\":\"white\",\"gridwidth\":2,\"linecolor\":\"white\",\"showbackground\":true,\"ticks\":\"\",\"zerolinecolor\":\"white\"}},\"shapedefaults\":{\"line\":{\"color\":\"#2a3f5f\"}},\"ternary\":{\"aaxis\":{\"gridcolor\":\"white\",\"linecolor\":\"white\",\"ticks\":\"\"},\"baxis\":{\"gridcolor\":\"white\",\"linecolor\":\"white\",\"ticks\":\"\"},\"bgcolor\":\"#E5ECF6\",\"caxis\":{\"gridcolor\":\"white\",\"linecolor\":\"white\",\"ticks\":\"\"}},\"title\":{\"x\":0.05},\"xaxis\":{\"automargin\":true,\"gridcolor\":\"white\",\"linecolor\":\"white\",\"ticks\":\"\",\"title\":{\"standoff\":15},\"zerolinecolor\":\"white\",\"zerolinewidth\":2},\"yaxis\":{\"automargin\":true,\"gridcolor\":\"white\",\"linecolor\":\"white\",\"ticks\":\"\",\"title\":{\"standoff\":15},\"zerolinecolor\":\"white\",\"zerolinewidth\":2}}}},                        {\"responsive\": true}                    ).then(function(){\n",
       "                            \n",
       "var gd = document.getElementById('adadf0b2-4655-4c22-a5b1-bbb7638150c5');\n",
       "var x = new MutationObserver(function (mutations, observer) {{\n",
       "        var display = window.getComputedStyle(gd).display;\n",
       "        if (!display || display === 'none') {{\n",
       "            console.log([gd, 'removed!']);\n",
       "            Plotly.purge(gd);\n",
       "            observer.disconnect();\n",
       "        }}\n",
       "}});\n",
       "\n",
       "// Listen for the removal of the full notebook cells\n",
       "var notebookContainer = gd.closest('#notebook-container');\n",
       "if (notebookContainer) {{\n",
       "    x.observe(notebookContainer, {childList: true});\n",
       "}}\n",
       "\n",
       "// Listen for the clearing of the current output cell\n",
       "var outputEl = gd.closest('.output');\n",
       "if (outputEl) {{\n",
       "    x.observe(outputEl, {childList: true});\n",
       "}}\n",
       "\n",
       "                        })                };                });            </script>        </div>"
      ]
     },
     "metadata": {},
     "output_type": "display_data"
    }
   ],
   "source": [
    "labels = df['DIVISION_NAME'].unique()\n",
    "values=[]\n",
    "for each in labels:\n",
    "    values.append(len(df[df['DIVISION_NAME']==each]))\n",
    "\n",
    "fig = go.Figure(data=[go.Pie(labels=labels, values=values, hole=0.1)])\n",
    "fig.show()"
   ]
  },
  {
   "cell_type": "markdown",
   "metadata": {},
   "source": [
    "# Vegalite visualizations"
   ]
  },
  {
   "cell_type": "markdown",
   "metadata": {},
   "source": [
    "## Interactive Bar graphs\n",
    "In this vegalite visualization, I have constructed two bar graphs connected through the selection. Here on the first graph, it shows the number of crimes happening in a particular state. If we select a state, or more than one state, it changes the bar graph showing the number of crimes in the type of location below accordingly. This visualization is helpful as it shows the different number of crimes happening in a different location in a particular state.\n",
    "The github repository for the visualization: https://github.com/SnehaBaranwal/snehab2412.github.io/tree/master/Phase3DV/AreaChart"
   ]
  },
  {
   "cell_type": "code",
   "execution_count": 21,
   "metadata": {},
   "outputs": [
    {
     "data": {
      "text/html": [
       "<iframe src=\"https://snehabaranwal.github.io/snehab2412.github.io/Phase3DV/InteractiveBarCharts/\", width=1000, height=500></iframe>\n"
      ],
      "text/plain": [
       "<IPython.core.display.HTML object>"
      ]
     },
     "metadata": {},
     "output_type": "display_data"
    }
   ],
   "source": [
    "%%html\n",
    "<iframe src=\"https://snehabaranwal.github.io/snehab2412.github.io/Phase3DV/InteractiveBarCharts/\", width=1000, height=500></iframe>"
   ]
  },
  {
   "cell_type": "markdown",
   "metadata": {},
   "source": [
    "## Area Graph visualization\n",
    "Here in this area graph, it shows the total offenders over the years in different regions depicted by different colour. It is interesting to see that we have one colour from the label missing, that means we have zero offenders in the U.S. Territories. The highest number of offenders is in the Midwest which have only increased recently. Infact, the nummber of offenders have increased for all the other regions. We also have interactivity on mouseover showing the year, total offenders in the year and the region name.\n",
    "The github repository for this visualization is https://github.com/SnehaBaranwal/snehab2412.github.io/tree/master/Phase3DV/InteractiveBarCharts"
   ]
  },
  {
   "cell_type": "code",
   "execution_count": 22,
   "metadata": {
    "scrolled": true
   },
   "outputs": [
    {
     "data": {
      "text/html": [
       "<iframe src=\"https://snehabaranwal.github.io/snehab2412.github.io/Phase3DV/AreaChart/\", width=1000, height=500></iframe>\n"
      ],
      "text/plain": [
       "<IPython.core.display.HTML object>"
      ]
     },
     "metadata": {},
     "output_type": "display_data"
    }
   ],
   "source": [
    "%%html\n",
    "<iframe src=\"https://snehabaranwal.github.io/snehab2412.github.io/Phase3DV/AreaChart/\", width=1000, height=500></iframe>"
   ]
  },
  {
   "cell_type": "markdown",
   "metadata": {},
   "source": [
    "# Area Chart showing the Total Number of Hate Crimes over the Years"
   ]
  },
  {
   "cell_type": "markdown",
   "metadata": {},
   "source": [
    "This area chart visualization shows the total hate crimes that occurred in the USA over the years. It is an interactive visualization with rectangular brush and gradient. Selecting any particular area highlights the selected area and fades the rest of the area. The gradient moves from black to red over the years."
   ]
  },
  {
   "cell_type": "code",
   "execution_count": 23,
   "metadata": {},
   "outputs": [
    {
     "data": {
      "text/html": [
       "<iframe src=\"https://kothariashish21.github.io/ashishk21-DataViz.github.io/Phase3DV/AreaChart/\", width=1000, height=500></iframe>\n"
      ],
      "text/plain": [
       "<IPython.core.display.HTML object>"
      ]
     },
     "metadata": {},
     "output_type": "display_data"
    }
   ],
   "source": [
    "%%html\n",
    "<iframe src=\"https://kothariashish21.github.io/ashishk21-DataViz.github.io/Phase3DV/AreaChart/\", width=1000, height=500></iframe>"
   ]
  },
  {
   "cell_type": "markdown",
   "metadata": {},
   "source": [
    "# Scatter Plot showing the Number of Victims Vs Total Offender "
   ]
  },
  {
   "cell_type": "markdown",
   "metadata": {},
   "source": [
    "This scatter plot visualization shows the relationship between numbers of victims and total offender in each population group. The population data in the data set was organized in groups over the years so plotting a scatter plot best depicted the relationship between the two and the groups. The visualization is interactive so by zooming in and zooming out we can see all the plotted data points. The axis values also change as per the plotted points as we zoom in and out. Here the groups mean the following:\n",
    "\n",
    "(1) 0   -  Possessions (Puerto Rico, Guam, Canal Zone, Virgin Islands, and American Samoa)\n",
    "(2) 1A  - Cities 1,000,000 or over\n",
    "(3) 1B  - Cities from 500,000 thru 999,999\n",
    "(4) 1C  - Cities from 250,000 thru 499,999\n",
    "(5) 2   - Cities from 100,000 thru 249,999\n",
    "(6) 3   - Cities from 50,000 thru 99,999\n",
    "(7) 4   - Cities from 25,000 thru 49,999\n",
    "(8) 5   - Cities from 10,000 thru 24,999\n",
    "(9) 6   - Cities from 2,500 thru 9,999\n",
    "(10) 7  - Cities under 2,500\n",
    "(11) 8A - Non-MSA counties 100,000 or over\n",
    "(12) 8B - Non-MSA counties from 25,000 thru 99,999\n",
    "(13) 8C - Non-MSA counties from 10,000 thru 24,999\n",
    "(14) 8D - Non-MSA counties under 10,000\n",
    "(15) 8E - Non-MSA State Police\n",
    "(16) 9A - MSA counties 100,000 or over\n",
    "(17) 9B - MSA counties from 25,000 thru 99,999\n",
    "(18) 9C - MSA counties from 10,000 thru 24,999\n",
    "(19) 9D - MSA counties under 10,000\n",
    "(20) 9E - MSA State Police\n",
    "\n",
    "\n",
    "Note - As the data set is huge the Vega lite editor crashed all the time while working on the visualization and displaying the output. We have also included the GitHub repository link in case the Vega lite crashes again.\n",
    "\n",
    "Github : https://github.com/kothariashish21/ashishk21-DataViz.github.io/tree/master/Phase3DV"
   ]
  },
  {
   "cell_type": "code",
   "execution_count": 24,
   "metadata": {},
   "outputs": [
    {
     "data": {
      "text/html": [
       "<iframe src=\"https://kothariashish21.github.io/ashishk21-DataViz.github.io/Phase3DV/Scatterplot/\", width=1000, height=500></iframe>\n"
      ],
      "text/plain": [
       "<IPython.core.display.HTML object>"
      ]
     },
     "metadata": {},
     "output_type": "display_data"
    }
   ],
   "source": [
    "%%html\n",
    "<iframe src=\"https://kothariashish21.github.io/ashishk21-DataViz.github.io/Phase3DV/Scatterplot/\", width=1000, height=500></iframe>"
   ]
  },
  {
   "cell_type": "markdown",
   "metadata": {},
   "source": [
    "# Repeated Bar Charts "
   ]
  },
  {
   "cell_type": "markdown",
   "metadata": {},
   "source": [
    "In order to gain further insights into the data we decided to plot a repeated bar graphs to show the following relationship between the bias description and other attributes. As it is hate crime data set we decided to keep the bias description as the offset across all the graphs to gain more insight as to which ethnicity, race or community was targeted more. From the graph we can clearly see that the Hate Crime was highest for Anti-Black or African American across all the graphs. As the graph is interactive, hovering over the bar gives all the information for that graph and selecting the bar fades all the other bars in the visualization. Also, we can see from the visualization that there are too many attributes so the legend cannot display everything."
   ]
  },
  {
   "cell_type": "code",
   "execution_count": 25,
   "metadata": {},
   "outputs": [
    {
     "data": {
      "text/html": [
       "<iframe src=\"https://kothariashish21.github.io/ashishk21-DataViz.github.io/Phase3DV/RepeatedBarCharts/\", width=1000, height=700></iframe>\n"
      ],
      "text/plain": [
       "<IPython.core.display.HTML object>"
      ]
     },
     "metadata": {},
     "output_type": "display_data"
    }
   ],
   "source": [
    "%%html\n",
    "<iframe src=\"https://kothariashish21.github.io/ashishk21-DataViz.github.io/Phase3DV/RepeatedBarCharts/\", width=1000, height=700></iframe>"
   ]
  }
 ],
 "metadata": {
  "kernelspec": {
   "display_name": "Python 3",
   "language": "python",
   "name": "python3"
  },
  "language_info": {
   "codemirror_mode": {
    "name": "ipython",
    "version": 3
   },
   "file_extension": ".py",
   "mimetype": "text/x-python",
   "name": "python",
   "nbconvert_exporter": "python",
   "pygments_lexer": "ipython3",
   "version": "3.8.5"
  }
 },
 "nbformat": 4,
 "nbformat_minor": 4
}
